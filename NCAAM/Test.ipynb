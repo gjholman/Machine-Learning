{
 "cells": [
  {
   "cell_type": "markdown",
   "metadata": {},
   "source": [
    "First, we import bigquery. This will also automatically check the credentials downloaded from a .json file provided by my google cloud account."
   ]
  },
  {
   "cell_type": "code",
   "execution_count": 2,
   "metadata": {},
   "outputs": [],
   "source": [
    "from google.cloud import bigquery"
   ]
  },
  {
   "cell_type": "code",
   "execution_count": 3,
   "metadata": {},
   "outputs": [],
   "source": [
    "client = bigquery.Client()"
   ]
  },
  {
   "cell_type": "code",
   "execution_count": 4,
   "metadata": {},
   "outputs": [],
   "source": [
    "# This is the reference to the dataset it is how the 'client' is able\n",
    "# to reference the dataset. in this case, we are using the ncaa basketball\n",
    "# dataset. The project name is that of the free datasets on kaggle\n",
    "\n",
    "ncaa_dataset_ref = client.dataset('ncaa_basketball', project = 'bigquery-public-data')"
   ]
  },
  {
   "cell_type": "code",
   "execution_count": 5,
   "metadata": {},
   "outputs": [
    {
     "data": {
      "text/plain": [
       "google.cloud.bigquery.dataset.DatasetReference"
      ]
     },
     "execution_count": 5,
     "metadata": {},
     "output_type": "execute_result"
    }
   ],
   "source": [
    "type(ncaa_dataset_ref)"
   ]
  },
  {
   "cell_type": "code",
   "execution_count": 6,
   "metadata": {},
   "outputs": [],
   "source": [
    "ncaa_dset = client.get_dataset(ncaa_dataset_ref)"
   ]
  },
  {
   "cell_type": "code",
   "execution_count": 7,
   "metadata": {},
   "outputs": [
    {
     "data": {
      "text/plain": [
       "['mascots',\n",
       " 'mbb_games_sr',\n",
       " 'mbb_historical_teams_games',\n",
       " 'mbb_historical_teams_seasons',\n",
       " 'mbb_historical_tournament_games',\n",
       " 'mbb_pbp_sr',\n",
       " 'mbb_players_games_sr',\n",
       " 'mbb_teams',\n",
       " 'mbb_teams_games_sr',\n",
       " 'team_colors']"
      ]
     },
     "execution_count": 7,
     "metadata": {},
     "output_type": "execute_result"
    }
   ],
   "source": [
    "[x.table_id for x in client.list_tables(ncaa_dataset_ref)]\n",
    "# This will also work if you use ncaa_dset instead of ncaa_dataset_ref"
   ]
  },
  {
   "cell_type": "code",
   "execution_count": 8,
   "metadata": {},
   "outputs": [],
   "source": [
    "# Lets look at the teams table\n",
    "ncaa_teams = client.get_table(ncaa_dset.table('mbb_teams'))"
   ]
  },
  {
   "cell_type": "code",
   "execution_count": 9,
   "metadata": {},
   "outputs": [
    {
     "data": {
      "text/plain": [
       "['clustering_fields',\n",
       " 'created',\n",
       " 'dataset_id',\n",
       " 'description',\n",
       " 'encryption_configuration',\n",
       " 'etag',\n",
       " 'expires',\n",
       " 'external_data_configuration',\n",
       " 'friendly_name',\n",
       " 'from_api_repr',\n",
       " 'from_string',\n",
       " 'full_table_id',\n",
       " 'labels',\n",
       " 'location',\n",
       " 'modified',\n",
       " 'num_bytes',\n",
       " 'num_rows',\n",
       " 'partition_expiration',\n",
       " 'partitioning_type',\n",
       " 'path',\n",
       " 'project',\n",
       " 'reference',\n",
       " 'schema',\n",
       " 'self_link',\n",
       " 'streaming_buffer',\n",
       " 'table_id',\n",
       " 'table_type',\n",
       " 'time_partitioning',\n",
       " 'to_api_repr',\n",
       " 'to_bqstorage',\n",
       " 'view_query',\n",
       " 'view_use_legacy_sql']"
      ]
     },
     "execution_count": 9,
     "metadata": {},
     "output_type": "execute_result"
    }
   ],
   "source": [
    "# How can we look at the ncaa teams' data\n",
    "[column for column in dir(ncaa_teams) if not column.startswith('_')]"
   ]
  },
  {
   "cell_type": "code",
   "execution_count": 10,
   "metadata": {},
   "outputs": [
    {
     "data": {
      "text/plain": [
       "[SchemaField('market', 'STRING', 'NULLABLE', None, ()),\n",
       " SchemaField('alias', 'STRING', 'NULLABLE', None, ()),\n",
       " SchemaField('name', 'STRING', 'NULLABLE', None, ()),\n",
       " SchemaField('id', 'STRING', 'NULLABLE', None, ()),\n",
       " SchemaField('code_ncaa', 'INTEGER', 'NULLABLE', None, ()),\n",
       " SchemaField('kaggle_team_id', 'INTEGER', 'NULLABLE', None, ()),\n",
       " SchemaField('school_ncaa', 'STRING', 'NULLABLE', None, ()),\n",
       " SchemaField('turner_name', 'STRING', 'NULLABLE', None, ()),\n",
       " SchemaField('league_name', 'STRING', 'NULLABLE', None, ()),\n",
       " SchemaField('league_alias', 'STRING', 'NULLABLE', None, ()),\n",
       " SchemaField('league_id', 'STRING', 'NULLABLE', None, ()),\n",
       " SchemaField('conf_name', 'STRING', 'NULLABLE', None, ()),\n",
       " SchemaField('conf_alias', 'STRING', 'NULLABLE', None, ()),\n",
       " SchemaField('conf_id', 'STRING', 'NULLABLE', None, ()),\n",
       " SchemaField('division_name', 'STRING', 'NULLABLE', None, ()),\n",
       " SchemaField('division_alias', 'STRING', 'NULLABLE', None, ()),\n",
       " SchemaField('division_id', 'STRING', 'NULLABLE', None, ()),\n",
       " SchemaField('venue_id', 'STRING', 'NULLABLE', None, ()),\n",
       " SchemaField('venue_city', 'STRING', 'NULLABLE', None, ()),\n",
       " SchemaField('venue_state', 'STRING', 'NULLABLE', None, ()),\n",
       " SchemaField('venue_address', 'STRING', 'NULLABLE', None, ()),\n",
       " SchemaField('venue_zip', 'STRING', 'NULLABLE', None, ()),\n",
       " SchemaField('venue_country', 'STRING', 'NULLABLE', None, ()),\n",
       " SchemaField('venue_name', 'STRING', 'NULLABLE', None, ()),\n",
       " SchemaField('venue_capacity', 'INTEGER', 'NULLABLE', None, ()),\n",
       " SchemaField('logo_large', 'STRING', 'NULLABLE', None, ()),\n",
       " SchemaField('logo_medium', 'STRING', 'NULLABLE', None, ()),\n",
       " SchemaField('logo_small', 'STRING', 'NULLABLE', None, ())]"
      ]
     },
     "execution_count": 10,
     "metadata": {},
     "output_type": "execute_result"
    }
   ],
   "source": [
    "# Let's look at the schematic. \n",
    "# schema will show us the information we need about the columns\n",
    "ncaa_teams.schema"
   ]
  },
  {
   "cell_type": "code",
   "execution_count": 11,
   "metadata": {},
   "outputs": [],
   "source": [
    "schema_subset = [col for col in ncaa_teams.schema if col.name in ('market', 'school_ncaa', 'conf_name')]\n",
    "results = [x for x in client.list_rows(ncaa_teams, selected_fields=schema_subset, max_results=10)]"
   ]
  },
  {
   "cell_type": "code",
   "execution_count": 12,
   "metadata": {},
   "outputs": [
    {
     "name": "stdout",
     "output_type": "stream",
     "text": [
      "[Row(('Princeton', 'Princeton', 'Ivy'), {'market': 0, 'school_ncaa': 1, 'conf_name': 2}), Row(('Yale', 'Yale', 'Ivy'), {'market': 0, 'school_ncaa': 1, 'conf_name': 2}), Row(('Harvard', 'Harvard', 'Ivy'), {'market': 0, 'school_ncaa': 1, 'conf_name': 2}), Row(('Dartmouth', 'Dartmouth', 'Ivy'), {'market': 0, 'school_ncaa': 1, 'conf_name': 2}), Row(('Cornell', 'Cornell', 'Ivy'), {'market': 0, 'school_ncaa': 1, 'conf_name': 2}), Row(('Columbia', 'Columbia', 'Ivy'), {'market': 0, 'school_ncaa': 1, 'conf_name': 2}), Row(('Brown', 'Brown', 'Ivy'), {'market': 0, 'school_ncaa': 1, 'conf_name': 2}), Row(('Pennsylvania', 'Penn', 'Ivy'), {'market': 0, 'school_ncaa': 1, 'conf_name': 2}), Row(('Oklahoma State', 'Oklahoma St.', 'Big 12'), {'market': 0, 'school_ncaa': 1, 'conf_name': 2}), Row(('Texas', 'Texas', 'Big 12'), {'market': 0, 'school_ncaa': 1, 'conf_name': 2})]\n"
     ]
    }
   ],
   "source": [
    "print(results)"
   ]
  },
  {
   "cell_type": "markdown",
   "metadata": {},
   "source": [
    "Great, we have data! Next, let's make a Machine Learning thing. Let's visualize a team's record over the past 50 years. Count the wins for each season"
   ]
  },
  {
   "cell_type": "code",
   "execution_count": 15,
   "metadata": {},
   "outputs": [],
   "source": [
    "# Let's grab the team season stats\n",
    "ncaa_team_seasons = client.get_table(ncaa_dset.table('mbb_historical_teams_seasons'))"
   ]
  },
  {
   "cell_type": "code",
   "execution_count": 16,
   "metadata": {},
   "outputs": [
    {
     "data": {
      "text/plain": [
       "[SchemaField('season', 'INTEGER', 'NULLABLE', 'Season the game was played in', ()),\n",
       " SchemaField('market', 'STRING', 'NULLABLE', 'Team school name (using Sportradar names)', ()),\n",
       " SchemaField('name', 'STRING', 'NULLABLE', 'Team name', ()),\n",
       " SchemaField('team_code', 'INTEGER', 'NULLABLE', 'School code (see http://stats.ncaa.org/game_upload/team_codes)', ()),\n",
       " SchemaField('team_id', 'STRING', 'NULLABLE', 'Sportradar team ID', ()),\n",
       " SchemaField('alias', 'STRING', 'NULLABLE', 'Team alias', ()),\n",
       " SchemaField('division', 'INTEGER', 'NULLABLE', 'The division the team played in at this time of this season', ()),\n",
       " SchemaField('current_division', 'STRING', 'NULLABLE', 'The division the team currently plays in', ()),\n",
       " SchemaField('wins', 'INTEGER', 'NULLABLE', 'Number of wins in this season', ()),\n",
       " SchemaField('losses', 'INTEGER', 'NULLABLE', 'Number of losses in this season', ()),\n",
       " SchemaField('ties', 'INTEGER', 'NULLABLE', 'Number of ties in this season', ())]"
      ]
     },
     "execution_count": 16,
     "metadata": {},
     "output_type": "execute_result"
    }
   ],
   "source": [
    "# Alright, next we should select a team, all of their seasons, and their wins and losses\n",
    "# We should start by looking at the schematic for our table\n",
    "ncaa_team_seasons.schema"
   ]
  },
  {
   "cell_type": "code",
   "execution_count": 18,
   "metadata": {},
   "outputs": [],
   "source": [
    "selected_subsets = [col for col in ncaa_team_seasons.schema if col.name in ('season', 'market', 'wins', 'losses')]\n",
    "uva_seasons = [s for s in client.list_rows(ncaa_team_seasons, selected_fields=selected_subsets) if s['market']=='University of Virginia']"
   ]
  },
  {
   "cell_type": "code",
   "execution_count": 19,
   "metadata": {},
   "outputs": [
    {
     "data": {
      "text/plain": [
       "[Row((1914, 'University of Virginia', 17, 0), {'season': 0, 'market': 1, 'wins': 2, 'losses': 3}),\n",
       " Row((1913, 'University of Virginia', 12, 1), {'season': 0, 'market': 1, 'wins': 2, 'losses': 3}),\n",
       " Row((1917, 'University of Virginia', 7, 1), {'season': 0, 'market': 1, 'wins': 2, 'losses': 3}),\n",
       " Row((1921, 'University of Virginia', 17, 1), {'season': 0, 'market': 1, 'wins': 2, 'losses': 3}),\n",
       " Row((1915, 'University of Virginia', 11, 2), {'season': 0, 'market': 1, 'wins': 2, 'losses': 3}),\n",
       " Row((1905, 'University of Virginia', 8, 2), {'season': 0, 'market': 1, 'wins': 2, 'losses': 3}),\n",
       " Row((1923, 'University of Virginia', 12, 3), {'season': 0, 'market': 1, 'wins': 2, 'losses': 3}),\n",
       " Row((1906, 'University of Virginia', 5, 3), {'season': 0, 'market': 1, 'wins': 2, 'losses': 3}),\n",
       " Row((1908, 'University of Virginia', 6, 3), {'season': 0, 'market': 1, 'wins': 2, 'losses': 3}),\n",
       " Row((1924, 'University of Virginia', 14, 3), {'season': 0, 'market': 1, 'wins': 2, 'losses': 3}),\n",
       " Row((1919, 'University of Virginia', 10, 3), {'season': 0, 'market': 1, 'wins': 2, 'losses': 3}),\n",
       " Row((1912, 'University of Virginia', 11, 4), {'season': 0, 'market': 1, 'wins': 2, 'losses': 3}),\n",
       " Row((1981, 'University of Virginia', 30, 4), {'season': 0, 'market': 1, 'wins': 2, 'losses': 3}),\n",
       " Row((1909, 'University of Virginia', 12, 4), {'season': 0, 'market': 1, 'wins': 2, 'losses': 3}),\n",
       " Row((1911, 'University of Virginia', 7, 4), {'season': 0, 'market': 1, 'wins': 2, 'losses': 3}),\n",
       " Row((2014, 'University of Virginia', 30, 4), {'season': 0, 'market': 1, 'wins': 2, 'losses': 3}),\n",
       " Row((1980, 'University of Virginia', 29, 4), {'season': 0, 'market': 1, 'wins': 2, 'losses': 3}),\n",
       " Row((1918, 'University of Virginia', 11, 4), {'season': 0, 'market': 1, 'wins': 2, 'losses': 3}),\n",
       " Row((1944, 'University of Virginia', 13, 4), {'season': 0, 'market': 1, 'wins': 2, 'losses': 3}),\n",
       " Row((1920, 'University of Virginia', 13, 5), {'season': 0, 'market': 1, 'wins': 2, 'losses': 3}),\n",
       " Row((1922, 'University of Virginia', 12, 5), {'season': 0, 'market': 1, 'wins': 2, 'losses': 3}),\n",
       " Row((1939, 'University of Virginia', 16, 5), {'season': 0, 'market': 1, 'wins': 2, 'losses': 3}),\n",
       " Row((1945, 'University of Virginia', 12, 5), {'season': 0, 'market': 1, 'wins': 2, 'losses': 3}),\n",
       " Row((1910, 'University of Virginia', 10, 5), {'season': 0, 'market': 1, 'wins': 2, 'losses': 3}),\n",
       " Row((1907, 'University of Virginia', 5, 5), {'season': 0, 'market': 1, 'wins': 2, 'losses': 3}),\n",
       " Row((1982, 'University of Virginia', 29, 5), {'season': 0, 'market': 1, 'wins': 2, 'losses': 3}),\n",
       " Row((1916, 'University of Virginia', 7, 5), {'season': 0, 'market': 1, 'wins': 2, 'losses': 3}),\n",
       " Row((1938, 'University of Virginia', 15, 5), {'season': 0, 'market': 1, 'wins': 2, 'losses': 3}),\n",
       " Row((1925, 'University of Virginia', 9, 6), {'season': 0, 'market': 1, 'wins': 2, 'losses': 3}),\n",
       " Row((1927, 'University of Virginia', 20, 6), {'season': 0, 'market': 1, 'wins': 2, 'losses': 3}),\n",
       " Row((1940, 'University of Virginia', 18, 6), {'season': 0, 'market': 1, 'wins': 2, 'losses': 3}),\n",
       " Row((1932, 'University of Virginia', 12, 6), {'season': 0, 'market': 1, 'wins': 2, 'losses': 3}),\n",
       " Row((1971, 'University of Virginia', 21, 7), {'season': 0, 'market': 1, 'wins': 2, 'losses': 3}),\n",
       " Row((2013, 'University of Virginia', 30, 7), {'season': 0, 'market': 1, 'wins': 2, 'losses': 3}),\n",
       " Row((1977, 'University of Virginia', 20, 8), {'season': 0, 'market': 1, 'wins': 2, 'losses': 3}),\n",
       " Row((2015, 'University of Virginia', 29, 8), {'season': 0, 'market': 1, 'wins': 2, 'losses': 3}),\n",
       " Row((1943, 'University of Virginia', 11, 8), {'season': 0, 'market': 1, 'wins': 2, 'losses': 3}),\n",
       " Row((1931, 'University of Virginia', 13, 8), {'season': 0, 'market': 1, 'wins': 2, 'losses': 3}),\n",
       " Row((2000, 'University of Virginia', 20, 9), {'season': 0, 'market': 1, 'wins': 2, 'losses': 3}),\n",
       " Row((1994, 'University of Virginia', 25, 9), {'season': 0, 'market': 1, 'wins': 2, 'losses': 3}),\n",
       " Row((1934, 'University of Virginia', 13, 9), {'season': 0, 'market': 1, 'wins': 2, 'losses': 3}),\n",
       " Row((1930, 'University of Virginia', 11, 9), {'season': 0, 'market': 1, 'wins': 2, 'losses': 3}),\n",
       " Row((1948, 'University of Virginia', 13, 10), {'season': 0, 'market': 1, 'wins': 2, 'losses': 3}),\n",
       " Row((1926, 'University of Virginia', 9, 10), {'season': 0, 'market': 1, 'wins': 2, 'losses': 3}),\n",
       " Row((1978, 'University of Virginia', 19, 10), {'season': 0, 'market': 1, 'wins': 2, 'losses': 3}),\n",
       " Row((1936, 'University of Virginia', 9, 10), {'season': 0, 'market': 1, 'wins': 2, 'losses': 3}),\n",
       " Row((1986, 'University of Virginia', 21, 10), {'season': 0, 'market': 1, 'wins': 2, 'losses': 3}),\n",
       " Row((1941, 'University of Virginia', 7, 10), {'season': 0, 'market': 1, 'wins': 2, 'losses': 3}),\n",
       " Row((1979, 'University of Virginia', 24, 10), {'season': 0, 'market': 1, 'wins': 2, 'losses': 3}),\n",
       " Row((1947, 'University of Virginia', 16, 10), {'season': 0, 'market': 1, 'wins': 2, 'losses': 3}),\n",
       " Row((1937, 'University of Virginia', 6, 10), {'season': 0, 'market': 1, 'wins': 2, 'losses': 3}),\n",
       " Row((1928, 'University of Virginia', 9, 10), {'season': 0, 'market': 1, 'wins': 2, 'losses': 3}),\n",
       " Row((2011, 'University of Virginia', 22, 10), {'season': 0, 'market': 1, 'wins': 2, 'losses': 3}),\n",
       " Row((1992, 'University of Virginia', 21, 10), {'season': 0, 'market': 1, 'wins': 2, 'losses': 3}),\n",
       " Row((1988, 'University of Virginia', 22, 11), {'season': 0, 'market': 1, 'wins': 2, 'losses': 3}),\n",
       " Row((1985, 'University of Virginia', 19, 11), {'season': 0, 'market': 1, 'wins': 2, 'losses': 3}),\n",
       " Row((2006, 'University of Virginia', 21, 11), {'season': 0, 'market': 1, 'wins': 2, 'losses': 3}),\n",
       " Row((1933, 'University of Virginia', 7, 11), {'season': 0, 'market': 1, 'wins': 2, 'losses': 3}),\n",
       " Row((2016, 'University of Virginia', 23, 11), {'season': 0, 'market': 1, 'wins': 2, 'losses': 3}),\n",
       " Row((1970, 'University of Virginia', 15, 11), {'season': 0, 'market': 1, 'wins': 2, 'losses': 3}),\n",
       " Row((1946, 'University of Virginia', 10, 11), {'season': 0, 'market': 1, 'wins': 2, 'losses': 3}),\n",
       " Row((1953, 'University of Virginia', 16, 11), {'season': 0, 'market': 1, 'wins': 2, 'losses': 3}),\n",
       " Row((1975, 'University of Virginia', 18, 12), {'season': 0, 'market': 1, 'wins': 2, 'losses': 3}),\n",
       " Row((1999, 'University of Virginia', 19, 12), {'season': 0, 'market': 1, 'wins': 2, 'losses': 3}),\n",
       " Row((1972, 'University of Virginia', 13, 12), {'season': 0, 'market': 1, 'wins': 2, 'losses': 3}),\n",
       " Row((1990, 'University of Virginia', 21, 12), {'season': 0, 'market': 1, 'wins': 2, 'losses': 3}),\n",
       " Row((2012, 'University of Virginia', 23, 12), {'season': 0, 'market': 1, 'wins': 2, 'losses': 3}),\n",
       " Row((1929, 'University of Virginia', 3, 12), {'season': 0, 'market': 1, 'wins': 2, 'losses': 3}),\n",
       " Row((1983, 'University of Virginia', 21, 12), {'season': 0, 'market': 1, 'wins': 2, 'losses': 3}),\n",
       " Row((2001, 'University of Virginia', 17, 12), {'season': 0, 'market': 1, 'wins': 2, 'losses': 3}),\n",
       " Row((1989, 'University of Virginia', 20, 12), {'season': 0, 'market': 1, 'wins': 2, 'losses': 3}),\n",
       " Row((1996, 'University of Virginia', 18, 13), {'season': 0, 'market': 1, 'wins': 2, 'losses': 3}),\n",
       " Row((1935, 'University of Virginia', 11, 13), {'season': 0, 'market': 1, 'wins': 2, 'losses': 3}),\n",
       " Row((1949, 'University of Virginia', 12, 13), {'season': 0, 'market': 1, 'wins': 2, 'losses': 3}),\n",
       " Row((1974, 'University of Virginia', 12, 13), {'season': 0, 'market': 1, 'wins': 2, 'losses': 3}),\n",
       " Row((2003, 'University of Virginia', 18, 13), {'season': 0, 'market': 1, 'wins': 2, 'losses': 3}),\n",
       " Row((1957, 'University of Virginia', 10, 13), {'season': 0, 'market': 1, 'wins': 2, 'losses': 3}),\n",
       " Row((1993, 'University of Virginia', 18, 13), {'season': 0, 'market': 1, 'wins': 2, 'losses': 3}),\n",
       " Row((1952, 'University of Virginia', 10, 13), {'season': 0, 'market': 1, 'wins': 2, 'losses': 3}),\n",
       " Row((1942, 'University of Virginia', 8, 13), {'season': 0, 'market': 1, 'wins': 2, 'losses': 3}),\n",
       " Row((1991, 'University of Virginia', 20, 13), {'season': 0, 'market': 1, 'wins': 2, 'losses': 3}),\n",
       " Row((1951, 'University of Virginia', 11, 13), {'season': 0, 'market': 1, 'wins': 2, 'losses': 3}),\n",
       " Row((1958, 'University of Virginia', 11, 14), {'season': 0, 'market': 1, 'wins': 2, 'losses': 3}),\n",
       " Row((1950, 'University of Virginia', 8, 14), {'season': 0, 'market': 1, 'wins': 2, 'losses': 3}),\n",
       " Row((1965, 'University of Virginia', 7, 15), {'season': 0, 'market': 1, 'wins': 2, 'losses': 3}),\n",
       " Row((1969, 'University of Virginia', 10, 15), {'season': 0, 'market': 1, 'wins': 2, 'losses': 3}),\n",
       " Row((2004, 'University of Virginia', 14, 15), {'season': 0, 'market': 1, 'wins': 2, 'losses': 3}),\n",
       " Row((2005, 'University of Virginia', 15, 15), {'season': 0, 'market': 1, 'wins': 2, 'losses': 3}),\n",
       " Row((2010, 'University of Virginia', 16, 15), {'season': 0, 'market': 1, 'wins': 2, 'losses': 3}),\n",
       " Row((1954, 'University of Virginia', 14, 15), {'season': 0, 'market': 1, 'wins': 2, 'losses': 3}),\n",
       " Row((1968, 'University of Virginia', 10, 15), {'season': 0, 'market': 1, 'wins': 2, 'losses': 3}),\n",
       " Row((1995, 'University of Virginia', 12, 15), {'season': 0, 'market': 1, 'wins': 2, 'losses': 3}),\n",
       " Row((1963, 'University of Virginia', 8, 16), {'season': 0, 'market': 1, 'wins': 2, 'losses': 3}),\n",
       " Row((2007, 'University of Virginia', 17, 16), {'season': 0, 'market': 1, 'wins': 2, 'losses': 3}),\n",
       " Row((1967, 'University of Virginia', 9, 16), {'season': 0, 'market': 1, 'wins': 2, 'losses': 3}),\n",
       " Row((2002, 'University of Virginia', 16, 16), {'season': 0, 'market': 1, 'wins': 2, 'losses': 3}),\n",
       " Row((1973, 'University of Virginia', 11, 16), {'season': 0, 'market': 1, 'wins': 2, 'losses': 3}),\n",
       " Row((1998, 'University of Virginia', 14, 16), {'season': 0, 'market': 1, 'wins': 2, 'losses': 3}),\n",
       " Row((1984, 'University of Virginia', 17, 16), {'season': 0, 'market': 1, 'wins': 2, 'losses': 3}),\n",
       " Row((2009, 'University of Virginia', 15, 16), {'season': 0, 'market': 1, 'wins': 2, 'losses': 3}),\n",
       " Row((1976, 'University of Virginia', 12, 17), {'season': 0, 'market': 1, 'wins': 2, 'losses': 3}),\n",
       " Row((1955, 'University of Virginia', 10, 17), {'season': 0, 'market': 1, 'wins': 2, 'losses': 3}),\n",
       " Row((1966, 'University of Virginia', 9, 17), {'season': 0, 'market': 1, 'wins': 2, 'losses': 3}),\n",
       " Row((1959, 'University of Virginia', 6, 18), {'season': 0, 'market': 1, 'wins': 2, 'losses': 3}),\n",
       " Row((1964, 'University of Virginia', 7, 18), {'season': 0, 'market': 1, 'wins': 2, 'losses': 3}),\n",
       " Row((2008, 'University of Virginia', 10, 18), {'season': 0, 'market': 1, 'wins': 2, 'losses': 3}),\n",
       " Row((1987, 'University of Virginia', 13, 18), {'season': 0, 'market': 1, 'wins': 2, 'losses': 3}),\n",
       " Row((1961, 'University of Virginia', 5, 18), {'season': 0, 'market': 1, 'wins': 2, 'losses': 3}),\n",
       " Row((1997, 'University of Virginia', 11, 19), {'season': 0, 'market': 1, 'wins': 2, 'losses': 3}),\n",
       " Row((1956, 'University of Virginia', 6, 19), {'season': 0, 'market': 1, 'wins': 2, 'losses': 3}),\n",
       " Row((1962, 'University of Virginia', 5, 20), {'season': 0, 'market': 1, 'wins': 2, 'losses': 3}),\n",
       " Row((1960, 'University of Virginia', 3, 23), {'season': 0, 'market': 1, 'wins': 2, 'losses': 3})]"
      ]
     },
     "execution_count": 19,
     "metadata": {},
     "output_type": "execute_result"
    }
   ],
   "source": [
    "uva_seasons"
   ]
  },
  {
   "cell_type": "code",
   "execution_count": 20,
   "metadata": {},
   "outputs": [
    {
     "data": {
      "text/plain": [
       "112"
      ]
     },
     "execution_count": 20,
     "metadata": {},
     "output_type": "execute_result"
    }
   ],
   "source": [
    "len(uva_seasons)"
   ]
  },
  {
   "cell_type": "code",
   "execution_count": 21,
   "metadata": {},
   "outputs": [
    {
     "data": {
      "text/plain": [
       "['season', 'market', 'wins', 'losses']"
      ]
     },
     "execution_count": 21,
     "metadata": {},
     "output_type": "execute_result"
    }
   ],
   "source": [
    "list(uva_seasons[0].keys())"
   ]
  },
  {
   "cell_type": "code",
   "execution_count": 22,
   "metadata": {},
   "outputs": [
    {
     "data": {
      "text/plain": [
       "[1914, 'University of Virginia', 17, 0]"
      ]
     },
     "execution_count": 22,
     "metadata": {},
     "output_type": "execute_result"
    }
   ],
   "source": [
    "list(uva_seasons[0].values())"
   ]
  },
  {
   "cell_type": "code",
   "execution_count": 23,
   "metadata": {},
   "outputs": [],
   "source": [
    "import pandas as pd"
   ]
  },
  {
   "cell_type": "code",
   "execution_count": 24,
   "metadata": {},
   "outputs": [],
   "source": [
    "uva_df = pd.DataFrame(data=[list(season.values()) for season in uva_seasons], columns=list(uva_seasons[0].keys()))"
   ]
  },
  {
   "cell_type": "code",
   "execution_count": 25,
   "metadata": {},
   "outputs": [
    {
     "data": {
      "text/html": [
       "<div>\n",
       "<style scoped>\n",
       "    .dataframe tbody tr th:only-of-type {\n",
       "        vertical-align: middle;\n",
       "    }\n",
       "\n",
       "    .dataframe tbody tr th {\n",
       "        vertical-align: top;\n",
       "    }\n",
       "\n",
       "    .dataframe thead th {\n",
       "        text-align: right;\n",
       "    }\n",
       "</style>\n",
       "<table border=\"1\" class=\"dataframe\">\n",
       "  <thead>\n",
       "    <tr style=\"text-align: right;\">\n",
       "      <th></th>\n",
       "      <th>season</th>\n",
       "      <th>market</th>\n",
       "      <th>wins</th>\n",
       "      <th>losses</th>\n",
       "    </tr>\n",
       "  </thead>\n",
       "  <tbody>\n",
       "    <tr>\n",
       "      <th>0</th>\n",
       "      <td>1914</td>\n",
       "      <td>University of Virginia</td>\n",
       "      <td>17</td>\n",
       "      <td>0</td>\n",
       "    </tr>\n",
       "    <tr>\n",
       "      <th>1</th>\n",
       "      <td>1913</td>\n",
       "      <td>University of Virginia</td>\n",
       "      <td>12</td>\n",
       "      <td>1</td>\n",
       "    </tr>\n",
       "    <tr>\n",
       "      <th>2</th>\n",
       "      <td>1917</td>\n",
       "      <td>University of Virginia</td>\n",
       "      <td>7</td>\n",
       "      <td>1</td>\n",
       "    </tr>\n",
       "    <tr>\n",
       "      <th>3</th>\n",
       "      <td>1921</td>\n",
       "      <td>University of Virginia</td>\n",
       "      <td>17</td>\n",
       "      <td>1</td>\n",
       "    </tr>\n",
       "  </tbody>\n",
       "</table>\n",
       "</div>"
      ],
      "text/plain": [
       "   season                  market  wins  losses\n",
       "0    1914  University of Virginia    17       0\n",
       "1    1913  University of Virginia    12       1\n",
       "2    1917  University of Virginia     7       1\n",
       "3    1921  University of Virginia    17       1"
      ]
     },
     "execution_count": 25,
     "metadata": {},
     "output_type": "execute_result"
    }
   ],
   "source": [
    "uva_df.head(4)"
   ]
  },
  {
   "cell_type": "code",
   "execution_count": 26,
   "metadata": {},
   "outputs": [
    {
     "name": "stdout",
     "output_type": "stream",
     "text": [
      "<class 'pandas.core.frame.DataFrame'>\n",
      "RangeIndex: 112 entries, 0 to 111\n",
      "Data columns (total 4 columns):\n",
      "season    112 non-null int64\n",
      "market    112 non-null object\n",
      "wins      112 non-null int64\n",
      "losses    112 non-null int64\n",
      "dtypes: int64(3), object(1)\n",
      "memory usage: 3.6+ KB\n"
     ]
    }
   ],
   "source": [
    "uva_df.info()"
   ]
  },
  {
   "cell_type": "code",
   "execution_count": 36,
   "metadata": {},
   "outputs": [],
   "source": [
    "uva_df_sorted = uva_df.sort_values(by='season')"
   ]
  },
  {
   "cell_type": "code",
   "execution_count": 44,
   "metadata": {},
   "outputs": [
    {
     "data": {
      "text/plain": [
       "1914"
      ]
     },
     "execution_count": 44,
     "metadata": {},
     "output_type": "execute_result"
    }
   ],
   "source": [
    "uva_df_sorted['season'][0]"
   ]
  },
  {
   "cell_type": "code",
   "execution_count": 28,
   "metadata": {},
   "outputs": [],
   "source": [
    "import matplotlib.pyplot as plt"
   ]
  },
  {
   "cell_type": "code",
   "execution_count": 46,
   "metadata": {},
   "outputs": [
    {
     "name": "stdout",
     "output_type": "stream",
     "text": [
      "0      1914\n",
      "1      1913\n",
      "2      1917\n",
      "3      1921\n",
      "4      1915\n",
      "5      1905\n",
      "6      1923\n",
      "7      1906\n",
      "8      1908\n",
      "9      1924\n",
      "10     1919\n",
      "11     1912\n",
      "12     1981\n",
      "13     1909\n",
      "14     1911\n",
      "15     2014\n",
      "16     1980\n",
      "17     1918\n",
      "18     1944\n",
      "19     1920\n",
      "20     1922\n",
      "21     1939\n",
      "22     1945\n",
      "23     1910\n",
      "24     1907\n",
      "25     1982\n",
      "26     1916\n",
      "27     1938\n",
      "28     1925\n",
      "29     1927\n",
      "       ... \n",
      "82     1958\n",
      "83     1950\n",
      "84     1965\n",
      "85     1969\n",
      "86     2004\n",
      "87     2005\n",
      "88     2010\n",
      "89     1954\n",
      "90     1968\n",
      "91     1995\n",
      "92     1963\n",
      "93     2007\n",
      "94     1967\n",
      "95     2002\n",
      "96     1973\n",
      "97     1998\n",
      "98     1984\n",
      "99     2009\n",
      "100    1976\n",
      "101    1955\n",
      "102    1966\n",
      "103    1959\n",
      "104    1964\n",
      "105    2008\n",
      "106    1987\n",
      "107    1961\n",
      "108    1997\n",
      "109    1956\n",
      "110    1962\n",
      "111    1960\n",
      "Name: season, Length: 112, dtype: int64\n",
      "[1.0, 0.9230769230769231, 0.875, 0.9444444444444444, 0.8461538461538461, 0.8, 0.8, 0.625, 0.6666666666666666, 0.8235294117647058, 0.7692307692307693, 0.7333333333333333, 0.8823529411764706, 0.75, 0.6363636363636364, 0.8823529411764706, 0.8787878787878788, 0.7333333333333333, 0.7647058823529411, 0.7222222222222222, 0.7058823529411765, 0.7619047619047619, 0.7058823529411765, 0.6666666666666666, 0.5, 0.8529411764705882, 0.5833333333333334, 0.75, 0.6, 0.7692307692307693, 0.75, 0.6666666666666666, 0.75, 0.8108108108108109, 0.7142857142857143, 0.7837837837837838, 0.5789473684210527, 0.6190476190476191, 0.6896551724137931, 0.7352941176470589, 0.5909090909090909, 0.55, 0.5652173913043478, 0.47368421052631576, 0.6551724137931034, 0.47368421052631576, 0.6774193548387096, 0.4117647058823529, 0.7058823529411765, 0.6153846153846154, 0.375, 0.47368421052631576, 0.6875, 0.6774193548387096, 0.6666666666666666, 0.6333333333333333, 0.65625, 0.3888888888888889, 0.6764705882352942, 0.5769230769230769, 0.47619047619047616, 0.5925925925925926, 0.6, 0.6129032258064516, 0.52, 0.6363636363636364, 0.6571428571428571, 0.2, 0.6363636363636364, 0.5862068965517241, 0.625, 0.5806451612903226, 0.4583333333333333, 0.48, 0.48, 0.5806451612903226, 0.43478260869565216, 0.5806451612903226, 0.43478260869565216, 0.38095238095238093, 0.6060606060606061, 0.4583333333333333, 0.44, 0.36363636363636365, 0.3181818181818182, 0.4, 0.4827586206896552, 0.5, 0.5161290322580645, 0.4827586206896552, 0.4, 0.4444444444444444, 0.3333333333333333, 0.5151515151515151, 0.36, 0.5, 0.4074074074074074, 0.4666666666666667, 0.5151515151515151, 0.4838709677419355, 0.41379310344827586, 0.37037037037037035, 0.34615384615384615, 0.25, 0.28, 0.35714285714285715, 0.41935483870967744, 0.21739130434782608, 0.36666666666666664, 0.24, 0.2, 0.11538461538461539]\n"
     ]
    }
   ],
   "source": [
    "# X is the season, y is the winning percentage\n",
    "x = uva_df['season']\n",
    "print(x)\n",
    "win_percentage = []\n",
    "for i in range(len(uva_df)):\n",
    "    win = uva_df['wins'][i]\n",
    "    loss = uva_df['losses'][i]\n",
    "    win_percentage.append(win / (win + loss))\n",
    "print(win_percentage)"
   ]
  },
  {
   "cell_type": "code",
   "execution_count": 48,
   "metadata": {},
   "outputs": [
    {
     "data": {
      "text/plain": [
       "<matplotlib.collections.PathCollection at 0x124bf24a8>"
      ]
     },
     "execution_count": 48,
     "metadata": {},
     "output_type": "execute_result"
    },
    {
     "data": {
      "image/png": "[encoded data removed]",
      "text/plain": [
       "<Figure size 432x288 with 1 Axes>"
      ]
     },
     "metadata": {
      "needs_background": "light"
     },
     "output_type": "display_data"
    }
   ],
   "source": [
    "plt.scatter(x, win_percentage, label='UVA Win Percentage since 1905')"
   ]
  },
  {
   "cell_type": "code",
   "execution_count": 49,
   "metadata": {},
   "outputs": [
    {
     "data": {
      "text/plain": [
       "[<matplotlib.lines.Line2D at 0x124ce6128>]"
      ]
     },
     "execution_count": 49,
     "metadata": {},
     "output_type": "execute_result"
    },
    {
     "data": {
      "image/png": "[encoded data removed]",
      "text/plain": [
       "<Figure size 432x288 with 1 Axes>"
      ]
     },
     "metadata": {
      "needs_background": "light"
     },
     "output_type": "display_data"
    }
   ],
   "source": [
    "# But, let's see if we can make a line graph out of it - make it easier to see change from year to year\n",
    "plt.plot(x, win_percentage)"
   ]
  },
  {
   "cell_type": "markdown",
   "metadata": {},
   "source": [
    "Yikes"
   ]
  },
  {
   "cell_type": "code",
   "execution_count": null,
   "metadata": {},
   "outputs": [],
   "source": [
    "# Let's see if we can order the data\n"
   ]
  }
 ],
 "metadata": {
  "kernelspec": {
   "display_name": "Python 3",
   "language": "python",
   "name": "python3"
  },
  "language_info": {
   "codemirror_mode": {
    "name": "ipython",
    "version": 3
   },
   "file_extension": ".py",
   "mimetype": "text/x-python",
   "name": "python",
   "nbconvert_exporter": "python",
   "pygments_lexer": "ipython3",
   "version": "3.6.7"
  }
 },
 "nbformat": 4,
 "nbformat_minor": 2
}
