{
 "cells": [
  {
   "cell_type": "markdown",
   "metadata": {},
   "source": [
    "First, we import bigquery. This will also automatically check the credentials downloaded from a .json file provided by my google cloud account."
   ]
  },
  {
   "cell_type": "code",
   "execution_count": 7,
   "metadata": {},
   "outputs": [],
   "source": [
    "from google.cloud import bigquery"
   ]
  },
  {
   "cell_type": "code",
   "execution_count": 8,
   "metadata": {},
   "outputs": [],
   "source": [
    "client = bigquery.Client()"
   ]
  },
  {
   "cell_type": "code",
   "execution_count": 12,
   "metadata": {},
   "outputs": [],
   "source": [
    "# This is the reference to the dataset it is how the 'client' is able\n",
    "# to reference the dataset. in this case, we are using the ncaa basketball\n",
    "# dataset. The project name is that of the free datasets on kaggle\n",
    "\n",
    "ncaa_dataset_ref = client.dataset('ncaa_basketball', project = 'bigquery-public-data')"
   ]
  },
  {
   "cell_type": "code",
   "execution_count": 13,
   "metadata": {},
   "outputs": [
    {
     "data": {
      "text/plain": [
       "google.cloud.bigquery.dataset.DatasetReference"
      ]
     },
     "execution_count": 13,
     "metadata": {},
     "output_type": "execute_result"
    }
   ],
   "source": [
    "type(ncaa_dataset_ref)"
   ]
  },
  {
   "cell_type": "code",
   "execution_count": 15,
   "metadata": {},
   "outputs": [],
   "source": [
    "ncaa_dset = client.get_dataset(ncaa_dataset_ref)"
   ]
  },
  {
   "cell_type": "code",
   "execution_count": 16,
   "metadata": {},
   "outputs": [
    {
     "data": {
      "text/plain": [
       "['mascots',\n",
       " 'mbb_games_sr',\n",
       " 'mbb_historical_teams_games',\n",
       " 'mbb_historical_teams_seasons',\n",
       " 'mbb_historical_tournament_games',\n",
       " 'mbb_pbp_sr',\n",
       " 'mbb_players_games_sr',\n",
       " 'mbb_teams',\n",
       " 'mbb_teams_games_sr',\n",
       " 'team_colors']"
      ]
     },
     "execution_count": 16,
     "metadata": {},
     "output_type": "execute_result"
    }
   ],
   "source": [
    "[x.table_id for x in client.list_tables(ncaa_dataset_ref)]\n",
    "# This will also work if you use ncaa_dset instead of ncaa_dataset_ref"
   ]
  },
  {
   "cell_type": "code",
   "execution_count": 18,
   "metadata": {},
   "outputs": [],
   "source": [
    "# Lets look at the teams table\n",
    "ncaa_teams = client.get_table(ncaa_dset.table('mbb_teams'))"
   ]
  },
  {
   "cell_type": "code",
   "execution_count": 20,
   "metadata": {},
   "outputs": [
    {
     "data": {
      "text/plain": [
       "['clustering_fields',\n",
       " 'created',\n",
       " 'dataset_id',\n",
       " 'description',\n",
       " 'encryption_configuration',\n",
       " 'etag',\n",
       " 'expires',\n",
       " 'external_data_configuration',\n",
       " 'friendly_name',\n",
       " 'from_api_repr',\n",
       " 'from_string',\n",
       " 'full_table_id',\n",
       " 'labels',\n",
       " 'location',\n",
       " 'modified',\n",
       " 'num_bytes',\n",
       " 'num_rows',\n",
       " 'partition_expiration',\n",
       " 'partitioning_type',\n",
       " 'path',\n",
       " 'project',\n",
       " 'reference',\n",
       " 'schema',\n",
       " 'self_link',\n",
       " 'streaming_buffer',\n",
       " 'table_id',\n",
       " 'table_type',\n",
       " 'time_partitioning',\n",
       " 'to_api_repr',\n",
       " 'to_bqstorage',\n",
       " 'view_query',\n",
       " 'view_use_legacy_sql']"
      ]
     },
     "execution_count": 20,
     "metadata": {},
     "output_type": "execute_result"
    }
   ],
   "source": [
    "# How can we look at the ncaa teams' data\n",
    "[column for column in dir(ncaa_teams) if not column.startswith('_')]"
   ]
  },
  {
   "cell_type": "code",
   "execution_count": 21,
   "metadata": {},
   "outputs": [
    {
     "data": {
      "text/plain": [
       "[SchemaField('market', 'STRING', 'NULLABLE', None, ()),\n",
       " SchemaField('alias', 'STRING', 'NULLABLE', None, ()),\n",
       " SchemaField('name', 'STRING', 'NULLABLE', None, ()),\n",
       " SchemaField('id', 'STRING', 'NULLABLE', None, ()),\n",
       " SchemaField('code_ncaa', 'INTEGER', 'NULLABLE', None, ()),\n",
       " SchemaField('kaggle_team_id', 'INTEGER', 'NULLABLE', None, ()),\n",
       " SchemaField('school_ncaa', 'STRING', 'NULLABLE', None, ()),\n",
       " SchemaField('turner_name', 'STRING', 'NULLABLE', None, ()),\n",
       " SchemaField('league_name', 'STRING', 'NULLABLE', None, ()),\n",
       " SchemaField('league_alias', 'STRING', 'NULLABLE', None, ()),\n",
       " SchemaField('league_id', 'STRING', 'NULLABLE', None, ()),\n",
       " SchemaField('conf_name', 'STRING', 'NULLABLE', None, ()),\n",
       " SchemaField('conf_alias', 'STRING', 'NULLABLE', None, ()),\n",
       " SchemaField('conf_id', 'STRING', 'NULLABLE', None, ()),\n",
       " SchemaField('division_name', 'STRING', 'NULLABLE', None, ()),\n",
       " SchemaField('division_alias', 'STRING', 'NULLABLE', None, ()),\n",
       " SchemaField('division_id', 'STRING', 'NULLABLE', None, ()),\n",
       " SchemaField('venue_id', 'STRING', 'NULLABLE', None, ()),\n",
       " SchemaField('venue_city', 'STRING', 'NULLABLE', None, ()),\n",
       " SchemaField('venue_state', 'STRING', 'NULLABLE', None, ()),\n",
       " SchemaField('venue_address', 'STRING', 'NULLABLE', None, ()),\n",
       " SchemaField('venue_zip', 'STRING', 'NULLABLE', None, ()),\n",
       " SchemaField('venue_country', 'STRING', 'NULLABLE', None, ()),\n",
       " SchemaField('venue_name', 'STRING', 'NULLABLE', None, ()),\n",
       " SchemaField('venue_capacity', 'INTEGER', 'NULLABLE', None, ()),\n",
       " SchemaField('logo_large', 'STRING', 'NULLABLE', None, ()),\n",
       " SchemaField('logo_medium', 'STRING', 'NULLABLE', None, ()),\n",
       " SchemaField('logo_small', 'STRING', 'NULLABLE', None, ())]"
      ]
     },
     "execution_count": 21,
     "metadata": {},
     "output_type": "execute_result"
    }
   ],
   "source": [
    "# Let's look at the schematic. \n",
    "# schema will show us the information we need about the columns\n",
    "ncaa_teams.schema"
   ]
  },
  {
   "cell_type": "code",
   "execution_count": 23,
   "metadata": {},
   "outputs": [],
   "source": [
    "schema_subset = [col for col in ncaa_teams.schema if col.name in ('market', 'school_ncaa', 'conf_name')]\n",
    "results = [x for x in client.list_rows(ncaa_teams, selected_fields=schema_subset, max_results=10)]"
   ]
  },
  {
   "cell_type": "code",
   "execution_count": 24,
   "metadata": {},
   "outputs": [
    {
     "name": "stdout",
     "output_type": "stream",
     "text": [
      "[Row(('Princeton', 'Princeton', 'Ivy'), {'market': 0, 'school_ncaa': 1, 'conf_name': 2}), Row(('Yale', 'Yale', 'Ivy'), {'market': 0, 'school_ncaa': 1, 'conf_name': 2}), Row(('Harvard', 'Harvard', 'Ivy'), {'market': 0, 'school_ncaa': 1, 'conf_name': 2}), Row(('Dartmouth', 'Dartmouth', 'Ivy'), {'market': 0, 'school_ncaa': 1, 'conf_name': 2}), Row(('Cornell', 'Cornell', 'Ivy'), {'market': 0, 'school_ncaa': 1, 'conf_name': 2}), Row(('Columbia', 'Columbia', 'Ivy'), {'market': 0, 'school_ncaa': 1, 'conf_name': 2}), Row(('Brown', 'Brown', 'Ivy'), {'market': 0, 'school_ncaa': 1, 'conf_name': 2}), Row(('Pennsylvania', 'Penn', 'Ivy'), {'market': 0, 'school_ncaa': 1, 'conf_name': 2}), Row(('Oklahoma State', 'Oklahoma St.', 'Big 12'), {'market': 0, 'school_ncaa': 1, 'conf_name': 2}), Row(('Texas', 'Texas', 'Big 12'), {'market': 0, 'school_ncaa': 1, 'conf_name': 2})]\n"
     ]
    }
   ],
   "source": [
    "print(results)"
   ]
  },
  {
   "cell_type": "markdown",
   "metadata": {},
   "source": [
    "Great, we have data! Next, let's make a Machine Learning thing. How about we detect whether or not two teams are rivals"
   ]
  },
  {
   "cell_type": "code",
   "execution_count": null,
   "metadata": {},
   "outputs": [],
   "source": []
  }
 ],
 "metadata": {
  "kernelspec": {
   "display_name": "Python 3",
   "language": "python",
   "name": "python3"
  },
  "language_info": {
   "codemirror_mode": {
    "name": "ipython",
    "version": 3
   },
   "file_extension": ".py",
   "mimetype": "text/x-python",
   "name": "python",
   "nbconvert_exporter": "python",
   "pygments_lexer": "ipython3",
   "version": "3.6.7"
  }
 },
 "nbformat": 4,
 "nbformat_minor": 2
}
